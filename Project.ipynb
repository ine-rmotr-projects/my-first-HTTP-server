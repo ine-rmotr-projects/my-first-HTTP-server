{
 "cells": [
  {
   "cell_type": "markdown",
   "metadata": {},
   "source": [
    "![ine-divider](https://user-images.githubusercontent.com/7065401/92672068-398e8080-f2ee-11ea-82d6-ad53f7feb5c0.png)\n",
    "<hr>\n",
    "\n",
    "### HTTP using Python\n",
    "\n",
    "# My first HTTP server\n",
    "\n",
    "In this exercise, you will need to construct a function that communicates with a locally running server.  Here we want you only to use only `telnetlib` rather than higher-level client libraries used in later lessons.  In particular, you will connect to port 2551 on `localhost`, and to the resource path `/json`.  As the name suggests, this path will return JSON responses; however, your function should return a Python dictionary derived from that. \n",
    "\n",
    "A trick to this exercise is that the server path does not accept GET requests, only POST or PUT.\n",
    "\n",
    "Two more hints will help you out.  The Python function `urllib.parse.urlencode` may be used to encode Python dictionaries.  Also helpful is knowing the `Content-Type` header value of `application/x-www-form-urlencoded` which will be relevant to completing this.\n",
    "\n",
    "A correct implementation of the function will behave like this:\n",
    "\n",
    "```python\n",
    ">>> get_response('David', 'Instructor')\n",
    "{'Server': '77851768', 'name': 'David', 'title': 'Instructor'}\n",
    "```\n",
    "\n",
    "![orange-divider](https://user-images.githubusercontent.com/7065401/92672455-187a5f80-f2ef-11ea-890c-40be9474f7b7.png)"
   ]
  },
  {
   "cell_type": "markdown",
   "metadata": {},
   "source": [
    "## Initial code"
   ]
  },
  {
   "cell_type": "code",
   "execution_count": null,
   "metadata": {},
   "outputs": [],
   "source": [
    "from telnetlib import Telnet\n",
    "import json\n",
    "from urllib.parse import urlencode\n",
    "\n",
    "from exercise_server import start\n",
    "start()"
   ]
  },
  {
   "cell_type": "code",
   "execution_count": null,
   "metadata": {},
   "outputs": [],
   "source": [
    "def get_response(name, title):\n",
    "    # Telnet(... something ...)\n",
    "    path = '/json'\n",
    "    return {\"Server\": \"Test Server\"}\n",
    "\n",
    "\n",
    "    # your code goes here\n"
   ]
  },
  {
   "cell_type": "markdown",
   "metadata": {},
   "source": [
    "![orange-divider](https://user-images.githubusercontent.com/7065401/92672455-187a5f80-f2ef-11ea-890c-40be9474f7b7.png)\n",
    "## Test Cases\n",
    "\n",
    "Check your solution by running the following test case:"
   ]
  },
  {
   "cell_type": "code",
   "execution_count": null,
   "metadata": {},
   "outputs": [],
   "source": [
    "from itertools import product\n",
    "import requests\n",
    "\n",
    "def test_responses():\n",
    "    names = ['Alice', 'Bob', 'Charlie']\n",
    "    titles = ['Doctor', 'Lawyer', 'Baker']\n",
    "    for name, title in product(names, titles):\n",
    "        resp = requests.put('http://localhost:2551/json', \n",
    "                            data=dict(name=name, title=title))\n",
    "        correct = json.loads(resp.text)\n",
    "        maybe = get_response(name, title)\n",
    "        assert maybe == correct, f'{maybe} / {correct}'\n",
    "    print(\"Your solution is ok!\")\n",
    "    \n",
    "    \n",
    "test_responses()"
   ]
  },
  {
   "cell_type": "markdown",
   "metadata": {},
   "source": [
    "![orange-divider](https://user-images.githubusercontent.com/7065401/92672455-187a5f80-f2ef-11ea-890c-40be9474f7b7.png)"
   ]
  }
 ],
 "metadata": {
  "kernelspec": {
   "display_name": "Python 3",
   "language": "python",
   "name": "python3"
  },
  "language_info": {
   "codemirror_mode": {
    "name": "ipython",
    "version": 3
   },
   "file_extension": ".py",
   "mimetype": "text/x-python",
   "name": "python",
   "nbconvert_exporter": "python",
   "pygments_lexer": "ipython3",
   "version": "3.8.6"
  }
 },
 "nbformat": 4,
 "nbformat_minor": 5
}
